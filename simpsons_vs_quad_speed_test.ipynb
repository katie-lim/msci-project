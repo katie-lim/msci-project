{
 "cells": [
  {
   "cell_type": "code",
   "execution_count": 10,
   "metadata": {},
   "outputs": [],
   "source": [
    "import numpy as np\n",
    "import matplotlib.pyplot as plt\n",
    "from scipy.integrate import quad\n",
    "from scipy.integrate import simpson\n",
    "from scipy.special import spherical_jn\n",
    "\n",
    "from utils import calc_n_max_l\n",
    "\n",
    "from compute_likelihood_lsst import calc_W\n",
    "\n",
    "from distance_redshift_relation import *\n"
   ]
  },
  {
   "cell_type": "code",
   "execution_count": 11,
   "metadata": {},
   "outputs": [
    {
     "data": {
      "text/plain": [
       "142"
      ]
     },
     "execution_count": 11,
     "metadata": {},
     "output_type": "execute_result"
    }
   ],
   "source": [
    "calc_n_max_l(0, 300, 1.5)"
   ]
  },
  {
   "cell_type": "code",
   "execution_count": 12,
   "metadata": {},
   "outputs": [],
   "source": [
    "omega_matter_true = 0.315\n",
    "omega_matter_0 = 0.315\n",
    "l_max = 15\n",
    "k_max = 50\n",
    "r_max_true = 1.5\n",
    "\n",
    "\n",
    "radii_true = np.linspace(0, r_max_true, 1001)\n",
    "true_z_of_r = getInterpolatedZofR(omega_matter_true)\n",
    "z_true = true_z_of_r(radii_true)\n",
    "\n",
    "r_of_z_fiducial = getInterpolatedRofZ(omega_matter_0)\n",
    "radii_fiducial = r_of_z_fiducial(z_true)\n",
    "r_max_0 = radii_fiducial[-1]"
   ]
  },
  {
   "cell_type": "code",
   "execution_count": 13,
   "metadata": {},
   "outputs": [
    {
     "data": {
      "image/png": "[encoded data removed]",
      "text/plain": [
       "<Figure size 640x480 with 1 Axes>"
      ]
     },
     "metadata": {},
     "output_type": "display_data"
    }
   ],
   "source": [
    "# Define a selection function with the form of a cosine\n",
    "# That goes to 0 at the boundary\n",
    "\n",
    "r_max_true = 1.5\n",
    "phi_r_max = r_max_true\n",
    "\n",
    "def phi(r):\n",
    "    return ((np.cos(r * np.pi/phi_r_max) + 1)/2) * (r < phi_r_max)\n",
    "\n",
    "plt.plot(np.linspace(0, 5, 100), phi(np.linspace(0, 5, 100)))\n",
    "plt.xlabel(\"r\")\n",
    "plt.ylabel(\"$\\phi$(r)\")\n",
    "plt.show()"
   ]
  },
  {
   "cell_type": "code",
   "execution_count": 14,
   "metadata": {},
   "outputs": [],
   "source": [
    "n, n_prime, l = 100, 140, 0\n",
    "# n, n_prime, l = 60, 20, 15\n",
    "\n",
    "# Omega_matter used in inference\n",
    "omega_matter = 0.315\n",
    "r0OfR = getInterpolatedR0ofR(omega_matter_0, omega_matter)\n",
    "\n",
    "# Accuracy settings\n",
    "Nsplit = 10\n",
    "epsabs = 1.49e-8\n",
    "\n",
    "# W = calc_W(n, n_prime, l, r_max_0, r0OfR, phi, Nsplit, epsabs, plot=True)\n",
    "# print(W)"
   ]
  },
  {
   "cell_type": "code",
   "execution_count": 15,
   "metadata": {},
   "outputs": [],
   "source": [
    "import numpy as np\n",
    "import matplotlib.pyplot as plt\n",
    "from scipy.special import spherical_jn\n",
    "\n",
    "from utils import calc_n_max_l, computeIntegralSplit\n",
    "from precompute_c_ln import get_c_ln_values_without_r_max\n",
    "from precompute_sph_bessel_zeros import loadSphericalBesselZeros\n",
    "\n",
    "\n",
    "c_ln_values_without_r_max = get_c_ln_values_without_r_max(\"c_ln.csv\")\n",
    "sphericalBesselZeros = loadSphericalBesselZeros(\"zeros.csv\")\n",
    "\n",
    "\n",
    "def calc_W_quad(n, n_prime, l, r_max, r0OfR, phiOfR0, Nsplit=10, epsabs=1.49e-8):\n",
    "    k_ln = sphericalBesselZeros[l][n] / r_max\n",
    "    k_ln_prime = sphericalBesselZeros[l][n_prime] / r_max\n",
    "\n",
    "\n",
    "    def W_integrand(r):\n",
    "        r0 = r0OfR(r)\n",
    "\n",
    "        return phiOfR0(r0) * spherical_jn(l, k_ln_prime*r) * spherical_jn(l, k_ln*r0) * r*r\n",
    "\n",
    "    integral = computeIntegralSplit(W_integrand, Nsplit, r_max, epsabs)\n",
    "\n",
    "    return np.power(r_max, -3/2) * c_ln_values_without_r_max[l][n_prime] * integral\n",
    "\n",
    "\n",
    "def calc_W_simpson(n, n_prime, l, r_max, r0OfR, phiOfR0, Npts=1001):\n",
    "    k_ln = sphericalBesselZeros[l][n] / r_max\n",
    "    k_ln_prime = sphericalBesselZeros[l][n_prime] / r_max\n",
    "\n",
    "\n",
    "    def W_integrand(r):\n",
    "        r0 = r0OfR(r)\n",
    "\n",
    "        return phiOfR0(r0) * spherical_jn(l, k_ln_prime*r) * spherical_jn(l, k_ln*r0) * r*r\n",
    "\n",
    "    x = np.linspace(0, r_max, Npts)\n",
    "    y = W_integrand(x)\n",
    "\n",
    "    integral = simpson(y, dx=(r_max / (Npts - 1)))\n",
    "\n",
    "    return np.power(r_max, -3/2) * c_ln_values_without_r_max[l][n_prime] * integral"
   ]
  },
  {
   "cell_type": "code",
   "execution_count": 17,
   "metadata": {},
   "outputs": [
    {
     "name": "stdout",
     "output_type": "stream",
     "text": [
      "l = 0, n = 100, n' = 140\n",
      "Quad\n",
      "-9.667033891748017e-14\n",
      "4.527720584792479e-19\n",
      "1.3401365816470793e-19\n",
      "-9.439795380084987e-20\n",
      "Simpson\n",
      "2.264453780645634e-19\n",
      "3.6046407120481517e-19\n",
      "3.7750885165511504e-20\n",
      "-3.2931380349533235e-20\n",
      "2.1938477193578642e-20\n",
      "7.680735243432107e-21\n",
      "-8.41063003722032e-21\n"
     ]
    }
   ],
   "source": [
    "print(\"l = %d, n = %d, n' = %d\" % (l, n, n_prime))\n",
    "Nsplits_quad = [10, 100, 1000, 10000]\n",
    "Npts_simpson = [1001, 10001, 100001, 1000001, 10000001, 2000001, 4000001]\n",
    "\n",
    "print(\"Quad\")\n",
    "for Nsplit in Nsplits_quad:\n",
    "    print(calc_W_quad(n, n_prime, l, r_max_0, r0OfR, phi, Nsplit))\n",
    "\n",
    "print(\"Simpson\")\n",
    "for Npts in Npts_simpson:\n",
    "    print(calc_W_simpson(n, n_prime, l, r_max_0, r0OfR, phi, Npts))"
   ]
  },
  {
   "cell_type": "code",
   "execution_count": null,
   "metadata": {},
   "outputs": [
    {
     "name": "stdout",
     "output_type": "stream",
     "text": [
      "33.1 ms ± 3.28 ms per loop (mean ± std. dev. of 7 runs, 10 loops each)\n"
     ]
    }
   ],
   "source": [
    "%timeit calc_W_quad(n, n_prime, l, r_max_0, r0OfR, phi, 10, epsabs)"
   ]
  },
  {
   "cell_type": "code",
   "execution_count": null,
   "metadata": {},
   "outputs": [
    {
     "name": "stdout",
     "output_type": "stream",
     "text": [
      "98.5 ms ± 8.1 ms per loop (mean ± std. dev. of 7 runs, 10 loops each)\n"
     ]
    }
   ],
   "source": [
    "%timeit calc_W_quad(n, n_prime, l, r_max_0, r0OfR, phi, 100, epsabs)"
   ]
  },
  {
   "cell_type": "code",
   "execution_count": null,
   "metadata": {},
   "outputs": [
    {
     "name": "stdout",
     "output_type": "stream",
     "text": [
      "912 µs ± 102 µs per loop (mean ± std. dev. of 7 runs, 1,000 loops each)\n"
     ]
    }
   ],
   "source": [
    "%timeit calc_W_simpson(n, n_prime, l, r_max_0, r0OfR, phi, 1001)"
   ]
  },
  {
   "cell_type": "code",
   "execution_count": null,
   "metadata": {},
   "outputs": [
    {
     "name": "stdout",
     "output_type": "stream",
     "text": [
      "7.6 ms ± 693 µs per loop (mean ± std. dev. of 7 runs, 100 loops each)\n"
     ]
    }
   ],
   "source": [
    "%timeit calc_W_simpson(n, n_prime, l, r_max_0, r0OfR, phi, 10001)"
   ]
  },
  {
   "cell_type": "code",
   "execution_count": null,
   "metadata": {},
   "outputs": [
    {
     "name": "stdout",
     "output_type": "stream",
     "text": [
      "72.6 ms ± 5.13 ms per loop (mean ± std. dev. of 7 runs, 10 loops each)\n"
     ]
    }
   ],
   "source": [
    "%timeit calc_W_simpson(n, n_prime, l, r_max_0, r0OfR, phi, 100001)"
   ]
  },
  {
   "cell_type": "code",
   "execution_count": null,
   "metadata": {},
   "outputs": [],
   "source": []
  }
 ],
 "metadata": {
  "kernelspec": {
   "display_name": "msci",
   "language": "python",
   "name": "python3"
  },
  "language_info": {
   "codemirror_mode": {
    "name": "ipython",
    "version": 3
   },
   "file_extension": ".py",
   "mimetype": "text/x-python",
   "name": "python",
   "nbconvert_exporter": "python",
   "pygments_lexer": "ipython3",
   "version": "3.10.6"
  },
  "orig_nbformat": 4,
  "vscode": {
   "interpreter": {
    "hash": "77f77e2279a34b55535e9735e6da24cef6c870382bdef7c700c8ed5830b13bae"
   }
  }
 },
 "nbformat": 4,
 "nbformat_minor": 2
}
